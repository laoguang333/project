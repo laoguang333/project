{
 "cells": [
  {
   "cell_type": "markdown",
   "id": "f7d9d4c8",
   "metadata": {},
   "source": [
    "# 引用view.py的代码示例\n",
    "\n",
    "本示例展示如何在testview.ipynb中引用view.py中的函数和类。"
   ]
  },
  {
   "cell_type": "code",
   "execution_count": null,
   "id": "c19741b6",
   "metadata": {},
   "outputs": [],
   "source": [
    "from pathlib import Path\n",
    "import sys\n",
    "\n",
    "import ipywidgets as widgets\n",
    "from IPython.display import display\n",
    "\n",
    "PACKAGE_ROOT = Path('..').resolve()\n",
    "PROJECT_ROOT = PACKAGE_ROOT.parent\n",
    "for path in (PROJECT_ROOT, PACKAGE_ROOT):\n",
    "    if str(path) not in sys.path:\n",
    "        sys.path.append(str(path))\n",
    "\n",
    "from stealth_monitor import config as monitor_config\n",
    "from stealth_monitor.notebook_utils import TimeframePlan, load_market_data\n",
    "from stealth_monitor.view import (\n",
    "    DOTTED_DASH_PATTERN,\n",
    "    DOTTED_MARKER_STEP,\n",
    "    build_dotted_ma_figure_from_dataframe,\n",
    "    display_bokeh,\n",
    ")\n"
   ]
  },
  {
   "cell_type": "code",
   "execution_count": null,
   "id": "6662d9e4",
   "metadata": {},
   "outputs": [],
   "source": [
    "# 配置所有可观察的品种，并提供交互选择控件\n",
    "instrument_dropdown = widgets.Dropdown(\n",
    "    options=[(item.label, item.key) for item in monitor_config.INSTRUMENTS],\n",
    "    value=monitor_config.INSTRUMENTS[0].key,\n",
    "    description='品种:',\n",
    "    layout=widgets.Layout(width='260px'),\n",
    ")\n",
    "\n",
    "TIMEFRAME_CONFIG = {\n",
    "    '1d': TimeframePlan(base_key='1d'),\n",
    "    '1m': TimeframePlan(base_key='1m'),\n",
    "    '5m': TimeframePlan(base_key='5m'),\n",
    "    '15m': TimeframePlan(base_key='15m'),\n",
    "    '30m': TimeframePlan(base_key='30m'),\n",
    "    '1h': TimeframePlan(base_key='60m'),\n",
    "    '4h': TimeframePlan(base_key='60m', resample_rule='4H', limit_multiplier=4),\n",
    "    '1d_alt': TimeframePlan(base_key='1d'),\n",
    "}\n",
    "\n",
    "timeframe_selector = widgets.ToggleButtons(\n",
    "    options=[\n",
    "        ('日线', '1d'),\n",
    "        ('1分钟', '1m'),\n",
    "        ('5分钟', '5m'),\n",
    "        ('15分钟', '15m'),\n",
    "        ('30分钟', '30m'),\n",
    "        ('1小时', '1h'),\n",
    "        ('4小时', '4h'),\n",
    "        ('1天', '1d_alt'),\n",
    "    ],\n",
    "    value='1d',\n",
    "    description='周期:',\n",
    "    button_style='',\n",
    "    layout=widgets.Layout(width='100%'),\n",
    ")\n",
    "\n",
    "limit_slider = widgets.IntSlider(\n",
    "    value=200,\n",
    "    min=50,\n",
    "    max=800,\n",
    "    step=50,\n",
    "    description='条数:',\n",
    "    continuous_update=False,\n",
    ")\n",
    "\n",
    "control_panel = widgets.VBox([\n",
    "    instrument_dropdown,\n",
    "    timeframe_selector,\n",
    "    limit_slider,\n",
    "])\n",
    "\n",
    "display(control_panel)\n"
   ]
  },
  {
   "cell_type": "code",
   "execution_count": null,
   "id": "d59873b9",
   "metadata": {},
   "outputs": [],
   "source": [
    "# 使用当前选择拉取行情数据（优先启用缓存策略）\n",
    "selected_plan = TIMEFRAME_CONFIG[timeframe_selector.value]\n",
    "data_limit = int(limit_slider.value)\n",
    "\n",
    "market_df = load_market_data(\n",
    "    instrument_dropdown.value,\n",
    "    selected_plan,\n",
    "    limit=data_limit,\n",
    "    prefer_cache=True,\n",
    ")\n",
    "\n",
    "market_df.tail()\n"
   ]
  },
  {
   "cell_type": "code",
   "execution_count": null,
   "id": "19371edf",
   "metadata": {},
   "outputs": [],
   "source": [
    "# 基于拉取的数据构建点状均线图表\n",
    "dotted_fig = build_dotted_ma_figure_from_dataframe(\n",
    "    market_df,\n",
    "    dash_pattern=DOTTED_DASH_PATTERN,\n",
    "    marker_step=DOTTED_MARKER_STEP,\n",
    ")\n"
   ]
  },
  {
   "cell_type": "code",
   "execution_count": null,
   "id": "ddbc3fda",
   "metadata": {},
   "outputs": [
    {
     "ename": "NameError",
     "evalue": "name 'display_bokeh' is not defined",
     "output_type": "error",
     "traceback": [
      "\u001b[31m---------------------------------------------------------------------------\u001b[39m",
      "\u001b[31mNameError\u001b[39m                                 Traceback (most recent call last)",
      "\u001b[36mCell\u001b[39m\u001b[36m \u001b[39m\u001b[32mIn[1]\u001b[39m\u001b[32m, line 1\u001b[39m\n\u001b[32m----> \u001b[39m\u001b[32m1\u001b[39m \u001b[43mdisplay_bokeh\u001b[49m(dotted_fig)\n",
      "\u001b[31mNameError\u001b[39m: name 'display_bokeh' is not defined"
     ]
    }
   ],
   "source": [
    "# 渲染图表\n",
    "display_bokeh(dotted_fig)\n"
   ]
  },
  {
   "cell_type": "markdown",
   "id": "b8e2f1a3",
   "metadata": {},
   "source": [
    "# 注意事项\n",
    "\n",
    "1. 确保您已经安装了所有必要的依赖库：pandas、numpy、bokeh、backtesting、ipython\n",
    "2. 如果导入失败，可能需要调整路径设置\n",
    "3. 可以根据需要选择性导入view.py中的特定函数或类\n",
    "4. 在实际使用中，选择适合您项目结构的导入方式"
   ]
  }
 ],
 "metadata": {
  "kernelspec": {
   "display_name": "Python 3",
   "language": "python",
   "name": "python3"
  },
  "language_info": {
   "codemirror_mode": {
    "name": "ipython",
    "version": 3
   },
   "file_extension": ".py",
   "mimetype": "text/x-python",
   "name": "python",
   "nbconvert_exporter": "python",
   "pygments_lexer": "ipython3",
   "version": "3.13.7"
  }
 },
 "nbformat": 4,
 "nbformat_minor": 5
}
