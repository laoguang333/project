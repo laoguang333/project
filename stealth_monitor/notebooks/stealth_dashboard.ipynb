{
 "cells": [
  {
   "cell_type": "markdown",
   "id": "7f03ebce",
   "metadata": {},
   "source": [
    "# Stealth Monitor Dashboard\n",
    "\n",
    "选择下方控件即可在办公室低调查看行情。"
   ]
  },
  {
   "cell_type": "code",
   "execution_count": null,
   "id": "f2a7cced",
   "metadata": {},
   "outputs": [],
   "source": [
    "from pathlib import Path\n",
    "import sys\n",
    "\n",
    "PACKAGE_ROOT = Path('..').resolve()\n",
    "PROJECT_ROOT = PACKAGE_ROOT.parent\n",
    "for path in (PROJECT_ROOT, PACKAGE_ROOT):\n",
    "    if str(path) not in sys.path:\n",
    "        sys.path.append(str(path))"
   ]
  },
  {
   "cell_type": "code",
   "execution_count": null,
   "id": "cd39cfdc",
   "metadata": {},
   "outputs": [],
   "source": [
    "from bokeh.io import output_notebook, show\n",
    "from bokeh.resources import INLINE\n",
    "\n",
    "output_notebook(resources=INLINE)"
   ]
  },
  {
   "cell_type": "code",
   "execution_count": null,
   "id": "db18c204",
   "metadata": {},
   "outputs": [],
   "source": [
    "import ipywidgets as widgets\n",
    "from IPython.display import display\n",
    "\n",
    "from stealth_monitor import INSTRUMENTS, TIMEFRAMES, CHART_STYLES, StealthDashboard\n",
    "\n",
    "instrument_options = [(item.label, item.key) for item in INSTRUMENTS]\n",
    "timeframe_options = [(item.label, item.key) for item in TIMEFRAMES]\n",
    "style_options = [(item.label, item.key) for item in CHART_STYLES]\n",
    "\n",
    "default_instrument = instrument_options[0][1]\n",
    "default_timeframe = '1m'\n",
    "default_style = style_options[0][1]\n",
    "\n",
    "instrument_dropdown = widgets.Dropdown(\n",
    "    options=instrument_options,\n",
    "    value=default_instrument,\n",
    "    description='标的:',\n",
    "    layout=widgets.Layout(width='280px'),\n",
    ")\n",
    "\n",
    "timeframe_dropdown = widgets.Dropdown(\n",
    "    options=timeframe_options,\n",
    "    value=default_timeframe,\n",
    "    description='周期:',\n",
    "    layout=widgets.Layout(width='200px'),\n",
    ")\n",
    "\n",
    "style_dropdown = widgets.Dropdown(\n",
    "    options=style_options,\n",
    "    value=default_style,\n",
    "    description='样式:',\n",
    "    layout=widgets.Layout(width='200px'),\n",
    ")\n",
    "\n",
    "refresh_button = widgets.Button(description='刷新', icon='refresh', layout=widgets.Layout(width='80px'))\n",
    "stop_button = widgets.Button(description='停止', icon='stop', layout=widgets.Layout(width='80px'))\n",
    "\n",
    "controller = StealthDashboard(update_interval=10, limit=200)\n",
    "\n",
    "control_row = widgets.HBox([instrument_dropdown, timeframe_dropdown, style_dropdown], layout=widgets.Layout(gap='10px'))\n",
    "action_row = widgets.HBox([refresh_button, stop_button], layout=widgets.Layout(gap='10px'))\n",
    "\n",
    "def apply_selection(*_):\n",
    "    controller.update_selection(\n",
    "        instrument_dropdown.value,\n",
    "        timeframe_dropdown.value,\n",
    "        style_dropdown.value,\n",
    "    )\n",
    "\n",
    "def manual_refresh(_):\n",
    "    controller.refresh_once()\n",
    "\n",
    "def manual_stop(_):\n",
    "    controller.stop()\n",
    "\n",
    "instrument_dropdown.observe(apply_selection, names='value')\n",
    "timeframe_dropdown.observe(apply_selection, names='value')\n",
    "style_dropdown.observe(apply_selection, names='value')\n",
    "refresh_button.on_click(manual_refresh)\n",
    "stop_button.on_click(manual_stop)\n",
    "\n",
    "display(control_row, action_row)\n",
    "apply_selection()"
   ]
  },
  {
   "cell_type": "code",
   "execution_count": null,
   "id": "e5de21fc",
   "metadata": {},
   "outputs": [],
   "source": [
    "# 手动停止刷新（备用）\n",
    "controller.stop()"
   ]
  }
 ],
 "metadata": {
  "kernelspec": {
   "display_name": "Python 3 (ipykernel)",
   "language": "python",
   "name": "python3"
  },
  "language_info": {
   "codemirror_mode": {
    "name": "ipython",
    "version": 3
   },
   "file_extension": ".py",
   "mimetype": "text/x-python",
   "name": "python",
   "nbconvert_exporter": "python",
   "pygments_lexer": "ipython3",
   "version": "3.11.7"
  }
 },
 "nbformat": 4,
 "nbformat_minor": 5
}
