{
 "cells": [
  {
   "cell_type": "markdown",
   "id": "082f27d7",
   "metadata": {},
   "source": [
    "# Display Steps Debug Notebook\n",
    "\n",
    "按顺序运行各单元，观察在逐步增加复杂度时图形是否能正常渲染。"
   ]
  },
  {
   "cell_type": "code",
   "execution_count": null,
   "id": "0b1d079a",
   "metadata": {},
   "outputs": [],
   "source": [
    "from pathlib import Path\n",
    "import sys\n",
    "PACKAGE_ROOT = Path('..').resolve()\n",
    "PROJECT_ROOT = PACKAGE_ROOT.parent\n",
    "for path in (PROJECT_ROOT, PACKAGE_ROOT):\n",
    "    if str(path) not in sys.path:\n",
    "        sys.path.append(str(path))"
   ]
  },
  {
   "cell_type": "code",
   "execution_count": null,
   "id": "6871a924",
   "metadata": {},
   "outputs": [],
   "source": [
    "from bokeh.io import output_notebook, show\n",
    "from bokeh.resources import INLINE\n",
    "output_notebook(resources=INLINE)"
   ]
  },
  {
   "cell_type": "code",
   "execution_count": null,
   "id": "227b47a1",
   "metadata": {},
   "outputs": [],
   "source": [
    "from stealth_monitor.display_steps import (\n",
    "    load_sample_data,\n",
    "    build_basic_line,\n",
    "    build_columnsourced_line,\n",
    "    build_candles,\n",
    "    build_dashboard_style,\n",
    ")\n",
    "\n",
    "df = load_sample_data(limit=200)\n",
    "df.tail()"
   ]
  },
  {
   "cell_type": "markdown",
   "id": "6caa0d57",
   "metadata": {},
   "source": [
    "## Step 1 · 直接使用 Python 数据绘制折线图"
   ]
  },
  {
   "cell_type": "code",
   "execution_count": null,
   "id": "9d544e1a",
   "metadata": {},
   "outputs": [],
   "source": [
    "fig1 = build_basic_line(df)\n",
    "show(fig1)"
   ]
  },
  {
   "cell_type": "markdown",
   "id": "0209ae10",
   "metadata": {},
   "source": [
    "## Step 2 · 使用 ColumnDataSource 的折线+散点"
   ]
  },
  {
   "cell_type": "code",
   "execution_count": null,
   "id": "56e5dccb",
   "metadata": {},
   "outputs": [],
   "source": [
    "fig2, source2 = build_columnsourced_line(df)\n",
    "show(fig2)"
   ]
  },
  {
   "cell_type": "markdown",
   "id": "09ed2aa3",
   "metadata": {},
   "source": [
    "## Step 3 · 简单蜡烛图 (segment + vbar)"
   ]
  },
  {
   "cell_type": "code",
   "execution_count": null,
   "id": "67d278ed",
   "metadata": {},
   "outputs": [],
   "source": [
    "fig3, source3 = build_candles(df)\n",
    "show(fig3)"
   ]
  },
  {
   "cell_type": "markdown",
   "id": "4b49661e",
   "metadata": {},
   "source": [
    "## Step 4 · 使用 Dashboard 样式封装的蜡烛图"
   ]
  },
  {
   "cell_type": "code",
   "execution_count": null,
   "id": "d95eda19",
   "metadata": {},
   "outputs": [],
   "source": [
    "fig4, source4 = build_dashboard_style(df)\n",
    "show(fig4)"
   ]
  },
  {
   "cell_type": "markdown",
   "id": "d8dcc3a1",
   "metadata": {},
   "source": [
    "## Step 5 · 在图前添加一个按钮 (无回调)"
   ]
  },
  {
   "cell_type": "code",
   "execution_count": null,
   "id": "aaf6c25f",
   "metadata": {},
   "outputs": [],
   "source": [
    "import ipywidgets as widgets\n",
    "btn_plain = widgets.Button(description='普通按钮')\n",
    "display(btn_plain)\n",
    "show(build_dashboard_style(df)[0])"
   ]
  },
  {
   "cell_type": "markdown",
   "id": "c99e7c9d",
   "metadata": {},
   "source": [
    "## Step 6 · 按钮绑定回调 (仅打印信息)"
   ]
  },
  {
   "cell_type": "code",
   "execution_count": null,
   "id": "f5e45f5d",
   "metadata": {},
   "outputs": [],
   "source": [
    "btn_print = widgets.Button(description='打印按钮')\n",
    "\n",
    "def _on_click_print(_):\n",
    "    print('按钮被点击')\n",
    "\n",
    "btn_print.on_click(_on_click_print)\n",
    "display(btn_print)\n",
    "show(build_dashboard_style(df)[0])"
   ]
  },
  {
   "cell_type": "markdown",
   "id": "80ff7650",
   "metadata": {},
   "source": [
    "---\n",
    "上述步骤均能正常渲染；如需进一步实验 widgets.Output，可复制 Step 4 的代码自行尝试。"
   ]
  }
 ],
 "metadata": {
  "kernelspec": {
   "display_name": "base",
   "language": "python",
   "name": "python3"
  },
  "language_info": {
   "name": "python",
   "version": "3.11.7"
  }
 },
 "nbformat": 4,
 "nbformat_minor": 5
}
